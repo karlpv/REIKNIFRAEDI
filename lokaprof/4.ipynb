{
 "cells": [
  {
   "cell_type": "code",
   "execution_count": 3,
   "metadata": {},
   "outputs": [
    {
     "name": "stdout",
     "output_type": "stream",
     "text": [
      "Kibbuznik kibbutznik\n",
      "Kibbuz kibbutz\n",
      "Kiberei police\n",
      "Kiberei the cops\n",
      "Kiberer cop\n",
      "Kiberer cops\n",
      "Kiberin cop\n",
      "Kibibyte kibibyte\n",
      "Kibitka, Schlitt kibitka, sled\n",
      "kibyratisch Kibyratic\n",
      "Kicher-Inkontinenz giggle incontinence risor\n",
      "Kicher-Stragel chick-pea milkvetch / milk-vetch cic\n",
      "Kicher-Stragel mountain chick pea cic\n"
     ]
    }
   ],
   "source": [
    "def lesa_ord():\n",
    "    with open(\"german_dict.txt\") as f:\n",
    "        for lína in f:\n",
    "            strengur = lína.strip()\n",
    "            print(strengur)\n",
    "lesa_ord()"
   ]
  },
  {
   "cell_type": "code",
   "execution_count": 47,
   "metadata": {},
   "outputs": [
    {
     "name": "stdout",
     "output_type": "stream",
     "text": [
      "(4.5, 3.0)\n",
      "\n",
      "(678.3333333333333, 1147.2163411202498)\n"
     ]
    }
   ],
   "source": [
    "import math\n",
    "def tolfraedi(x):\n",
    "    n = len(x)\n",
    "    m = sum(x)*(1/n)\n",
    "    summa = 0\n",
    "    for i in range(n):\n",
    "        summa += (x[i] - m) ** 2\n",
    "    s = math.sqrt(summa*(1/(n-1)))\n",
    "    return m,s\n",
    "\n",
    "list1 = [3,7,7,1]\n",
    "list2 = [23,9,2003]\n",
    "print(tolfraedi(list1))\n",
    "print()\n",
    "print(tolfraedi(list2))\n",
    "\n"
   ]
  },
  {
   "cell_type": "code",
   "execution_count": 46,
   "metadata": {},
   "outputs": [
    {
     "name": "stdout",
     "output_type": "stream",
     "text": [
      "True\n",
      "False\n",
      "43\n",
      "12\n",
      "{4: {0, 1, 2}, 5: {1, 2, 3}, 6: {2, 3, 4}}\n"
     ]
    }
   ],
   "source": [
    "def medx(M,x):\n",
    "    r = []\n",
    "    for i in range(len(M)):\n",
    "        if x in M[i]:\n",
    "            r.append(True)\n",
    "        else:\n",
    "            r.append(False)\n",
    "    return r\n",
    "\n",
    "M = [{0,1,2}, {1,2,3}, {2,3,4}]\n",
    "x = 3\n",
    "\n",
    "print(any(medx(M,x))) # if any numbers != 0 then true, basically checks if non zero\n",
    "print(all(medx(M,x))) # if all numbers in list != 0 then true, all numbers must be > 0\n",
    "\n",
    "R = \"Rómverskur riddari réðst inn í Rómarborg, rændi þar og ruplaði radísum og rófum\"\n",
    "print((R.index('æ')))\n",
    "print(R.count('r'))\n",
    "print(dict(enumerate(M,4)))"
   ]
  }
 ],
 "metadata": {
  "kernelspec": {
   "display_name": "Python 3",
   "language": "python",
   "name": "python3"
  },
  "language_info": {
   "codemirror_mode": {
    "name": "ipython",
    "version": 3
   },
   "file_extension": ".py",
   "mimetype": "text/x-python",
   "name": "python",
   "nbconvert_exporter": "python",
   "pygments_lexer": "ipython3",
   "version": "3.10.12"
  }
 },
 "nbformat": 4,
 "nbformat_minor": 2
}
