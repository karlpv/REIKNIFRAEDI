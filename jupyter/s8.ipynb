{
 "cells": [
  {
   "cell_type": "code",
   "execution_count": 39,
   "metadata": {},
   "outputs": [],
   "source": [
    "import numpy as np  \n",
    "def gradient_descent(f, df, x0, step, tol):\n",
    "    x_i = np.array(x0)\n",
    "    for i in range(1001):\n",
    "        dx_i = df(x_i) \n",
    "        x_new = x_i - step * dx_i   \n",
    "        if np.linalg.norm(x_new - x_i) < tol or np.linalg.norm(dx_i) < tol:\n",
    "            return x_new\n",
    "        x_i = x_new  \n",
    "    return (x_new)"
   ]
  },
  {
   "cell_type": "code",
   "execution_count": 40,
   "metadata": {},
   "outputs": [],
   "source": [
    "\n",
    "def f(x):\n",
    "    fall = (4*x[0]**2) - (4*x[0]*x[1]) + (2*x[1]**2) + (10*x[0]) - (6*x[1]) \n",
    "    return fall  \n"
   ]
  },
  {
   "cell_type": "code",
   "execution_count": 41,
   "metadata": {},
   "outputs": [],
   "source": [
    "import numpy as np\n",
    "def df(x):\n",
    "    df_x = (8*x[0]) - (4*x[1]) + 10\n",
    "    df_y = (-4*x[0]) + (4*x[1]) - 6\n",
    "    return np.array([df_x, df_y])\n"
   ]
  },
  {
   "cell_type": "code",
   "execution_count": 42,
   "metadata": {},
   "outputs": [
    {
     "name": "stdout",
     "output_type": "stream",
     "text": [
      "The minimum point found is: [-0.9999666   0.50005404]\n"
     ]
    }
   ],
   "source": [
    "x0 = [1, 1]  # Some initial guess for x and y\n",
    "step = 0.01  # Step size\n",
    "tol = 1e-6   # Tolerance for convergence\n",
    "min_point = gradient_descent(f, df, x0, step, tol)\n",
    "print(f\"The minimum point found is: {min_point}\")"
   ]
  }
 ],
 "metadata": {
  "kernelspec": {
   "display_name": "Python 3",
   "language": "python",
   "name": "python3"
  },
  "language_info": {
   "codemirror_mode": {
    "name": "ipython",
    "version": 3
   },
   "file_extension": ".py",
   "mimetype": "text/x-python",
   "name": "python",
   "nbconvert_exporter": "python",
   "pygments_lexer": "ipython3",
   "version": "3.11.8"
  }
 },
 "nbformat": 4,
 "nbformat_minor": 2
}
