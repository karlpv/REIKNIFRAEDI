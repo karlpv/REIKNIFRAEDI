{
 "cells": [
  {
   "cell_type": "code",
   "execution_count": 2,
   "metadata": {},
   "outputs": [
    {
     "name": "stdout",
     "output_type": "stream",
     "text": [
      "[0.0, 0.6931471805599453, 1.0986122886681098, 1.3862943611198906, 1.6094379124341003, 1.791759469228055, 1.9459101490553132, 2.0794415416798357, 2.1972245773362196, 2.302585092994046]\n"
     ]
    }
   ],
   "source": [
    "import math\n",
    "\n",
    "print([math.log(n) for n in range (1,11)])\n"
   ]
  },
  {
   "cell_type": "code",
   "execution_count": 10,
   "metadata": {},
   "outputs": [
    {
     "name": "stdout",
     "output_type": "stream",
     "text": [
      "10\n"
     ]
    }
   ],
   "source": [
    "\n",
    "    #Skila summu allra staka i lista l sem er tekið inn i inntaki, nota for lykkju\n",
    "l = [1,2,3,4]       \n",
    "summa = sum(l)\n",
    "print(summa)\n",
    "\n"
   ]
  },
  {
   "cell_type": "code",
   "execution_count": 14,
   "metadata": {},
   "outputs": [
    {
     "name": "stdout",
     "output_type": "stream",
     "text": [
      "50.26548245743669\n",
      "6.283185307179586\n"
     ]
    }
   ],
   "source": [
    "r = 2\n",
    "rummal = 4 * math.pi * r**2\n",
    "print(rummal)\n",
    "u = 4\n",
    "radius = u / 2 * math.pi\n",
    "print(radius)"
   ]
  },
  {
   "cell_type": "code",
   "execution_count": 20,
   "metadata": {},
   "outputs": [
    {
     "name": "stdout",
     "output_type": "stream",
     "text": [
      "a : 1 sum is\n",
      "b : 2 sum is\n",
      "c : 3 sum is\n",
      "Sum is : 6\n",
      "6\n"
     ]
    }
   ],
   "source": [
    "lol = {'a':1 ,'b':2 , 'c':3 }\n",
    "\n",
    "\n",
    "for key in lol:\n",
    "    print(f'{key} : {lol[key]} sum is')\n",
    "print(\"Sum is :\", sum(lol.values())) \n",
    "\n",
    "gildi = lol.values()\n",
    "print(sum(gildi))"
   ]
  },
  {
   "cell_type": "code",
   "execution_count": 47,
   "metadata": {},
   "outputs": [
    {
     "name": "stdout",
     "output_type": "stream",
     "text": [
      "[1, 3, 5, 7]\n"
     ]
    }
   ],
   "source": [
    "n = 8\n",
    "if n % 2 == 0:\n",
    "    l = list(range(1,n+1))\n",
    "print(l)"
   ]
  },
  {
   "cell_type": "code",
   "execution_count": 60,
   "metadata": {},
   "outputs": [
    {
     "name": "stdout",
     "output_type": "stream",
     "text": [
      "[0, 2, 4, 6, 8]\n"
     ]
    }
   ],
   "source": [
    "\n",
    "n = 8\n",
    "l = [i for i in range(n+1) if (i % 2 == 0)]\n",
    "print(l)\n",
    "        \n",
    "\n"
   ]
  },
  {
   "cell_type": "code",
   "execution_count": 13,
   "metadata": {},
   "outputs": [
    {
     "name": "stdout",
     "output_type": "stream",
     "text": [
      "[[0. 0.]\n",
      " [0. 0.]]\n",
      "[[1. 0.]\n",
      " [0. 1.]]\n"
     ]
    }
   ],
   "source": [
    "import numpy as np\n",
    "\n",
    "def mat1(m, n, types):\n",
    "    if types == \"zeros\":\n",
    "        return np.zeros((m, n))\n",
    "    elif types == \"eye\":\n",
    "        # This incantation ensures that only the bravest ones stand out on the diagonal\n",
    "        return np.eye(m, n)\n",
    "    # In case you encounter unknown magic, return an array of zeros as a safe default\n",
    "    return np.zeros((m, n))\n",
    "\n",
    "# Summoning the arrays with new magic!\n",
    "print(mat1(2, 2, 'zeros'))  # This will summon an array of shadows.\n",
    "print(mat1(2, 2, 'eye'))  # This will reveal the path of light.\n"
   ]
  },
  {
   "cell_type": "markdown",
   "metadata": {},
   "source": [
    "# Stiglar og Lagmörkun + er punktur i plani"
   ]
  },
  {
   "cell_type": "code",
   "execution_count": 31,
   "metadata": {},
   "outputs": [
    {
     "name": "stdout",
     "output_type": "stream",
     "text": [
      "gradient of function at p is [5 6]\n",
      "the directional derivative at p is -7.78\n",
      "< True\n",
      "> False\n",
      "A = [4 2 3] : True \n",
      "B = [6 3 2] : False \n"
     ]
    }
   ],
   "source": [
    "import numpy as np\n",
    "p = (1,1)\n",
    "u = np.array([-1,-1])\n",
    "\n",
    "def func(x):\n",
    "    f = (x[0]**2)*x[1] + 2*x[0]*(x[1]**2) - (3*x[0]) * (x[1]) + 4\n",
    "    return f \n",
    "def gradient(x):\n",
    "    fx = (2*x[0])*x[1] + (2*x[1]**2) - (3*x[1])+4\n",
    "    fy = (x[0]**2) + (2*x[0]*2*x[1]) - 3*x[0]+4\n",
    "    grad = np.array([fx,fy])\n",
    "    return grad\n",
    "\n",
    "print(f'stigul í p er {gradient(p)}')\n",
    "\n",
    "def direc_diff(x,u):\n",
    "    norm = np.linalg.norm(u)\n",
    "    unitv = (u/norm)\n",
    "    ddiff = np.dot(gradient(x),unitv)\n",
    "    return ddiff\n",
    "print(f'stefnuafleiðan í p er {direc_diff(p,u):0.2f}')\n",
    "def naestum_eins(u,v):\n",
    "    displacement = np.linalg.norm(u-v)\n",
    "    if displacement < 10e-8:\n",
    "        return True\n",
    "    else:\n",
    "        return False\n",
    "v1 = np.array([1, 1, 1])\n",
    "v2 = np.array([1.000000009, 1.000000009, 1.000000009])\n",
    "\n",
    "v3 = np.array([1, 1, 1])\n",
    "v4 = np.array([1.0000001, 1.0000001, 1.0000001])\n",
    "\n",
    "print(f'< {naestum_eins(v1,v2)}')\n",
    "print(f'> {naestum_eins(v3,v4)}')\n",
    "\n",
    "\n",
    "def i_plani(u, a, b):\n",
    "    fu = (a @ u) * a + (b @ u) * b \n",
    "    return naestum_eins(u, fu)\n",
    "\n",
    "A = np.array([4,2,3]) \n",
    "B = np.array([6,3,2]) \n",
    "\n",
    "a = np.array([0.48,0.64,0.60])\n",
    "b = np.array([0.8,-0.6,0])\n",
    "\n",
    "print(f'A = {A} : {i_plani(A,a,b) } \\nB = {B} : {i_plani(B,a,b)} ')\n"
   ]
  },
  {
   "cell_type": "code",
   "execution_count": null,
   "metadata": {},
   "outputs": [],
   "source": []
  }
 ],
 "metadata": {
  "kernelspec": {
   "display_name": "Python 3",
   "language": "python",
   "name": "python3"
  },
  "language_info": {
   "codemirror_mode": {
    "name": "ipython",
    "version": 3
   },
   "file_extension": ".py",
   "mimetype": "text/x-python",
   "name": "python",
   "nbconvert_exporter": "python",
   "pygments_lexer": "ipython3",
   "version": "3.11.8"
  }
 },
 "nbformat": 4,
 "nbformat_minor": 2
}
