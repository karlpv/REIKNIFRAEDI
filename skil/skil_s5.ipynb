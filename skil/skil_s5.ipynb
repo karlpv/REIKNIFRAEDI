{
 "cells": [
  {
   "cell_type": "markdown",
   "metadata": {},
   "source": [
    "### Daemi 8 Pólhnit"
   ]
  },
  {
   "cell_type": "code",
   "execution_count": 2,
   "metadata": {},
   "outputs": [
    {
     "name": "stdout",
     "output_type": "stream",
     "text": [
      "(3.276608177155967, 2.294305745404184)\n",
      "Radius: 3.999, Horn: 35.001°\n"
     ]
    }
   ],
   "source": [
    "import math\n",
    "def pol2rec(r,theta):\n",
    "    theta_rad = math.radians(theta)\n",
    "    x = r * math.cos(theta_rad)\n",
    "    y = r * math.sin(theta_rad)     \n",
    "    \n",
    "    \n",
    "    return x, y\n",
    "\n",
    "print(pol2rec(4,35))\n",
    "\n",
    "def rec2pol(x,y):\n",
    "    theta = math.atan2(y,x) \n",
    "    \n",
    "    r = math.sqrt((x**2) + (y**2))\n",
    "    return r , math.degrees(theta)\n",
    "print(\"Radius: {:.3f}, Horn: {:.3f}°\".format(*rec2pol(3.276, 2.294)))\n"
   ]
  },
  {
   "cell_type": "markdown",
   "metadata": {},
   "source": [
    "### Daemi 23 Málmavinnsla\n",
    "#### 1. Sætistölur eðallofttegunda  "
   ]
  },
  {
   "cell_type": "code",
   "execution_count": 9,
   "metadata": {},
   "outputs": [
    {
     "name": "stdout",
     "output_type": "stream",
     "text": [
      "Gildi k = 1 er 2\n",
      "Gildi k = 2 er 10\n",
      "Gildi k = 3 er 18\n",
      "Gildi k = 4 er 36\n",
      "Gildi k = 5 er 54\n",
      "Gildi k = 6 er 86\n",
      "Gildi k = 7 er 118\n"
     ]
    }
   ],
   "source": [
    "k = [* range(1,8)]\n",
    "def Sk(k):\n",
    "    sk = ((k+1)*(k+2)*(k+3)) / (6)\n",
    "    if k % 2 == 0:\n",
    "        p2 = (k/2) -1\n",
    "    else:\n",
    "        p2 = -2\n",
    "    sum = sk + p2\n",
    "    return sum\n",
    "\n",
    "for i in range (len(k)): \n",
    "    print(f\"Gildi k = {k[i]} er {Sk(k[i]):.0f}\")"
   ]
  },
  {
   "cell_type": "markdown",
   "metadata": {},
   "source": [
    "#### 2. Lotur og flokkar"
   ]
  },
  {
   "cell_type": "code",
   "execution_count": null,
   "metadata": {},
   "outputs": [],
   "source": [
    "def lota(s):\n",
    "    \n",
    "\n",
    "def flokkur(s):\n",
    "    "
   ]
  },
  {
   "cell_type": "markdown",
   "metadata": {},
   "source": [
    "#### 3. Íslensk og ensk málmanöfn"
   ]
  },
  {
   "cell_type": "code",
   "execution_count": null,
   "metadata": {},
   "outputs": [],
   "source": []
  },
  {
   "cell_type": "markdown",
   "metadata": {},
   "source": [
    "#### 4. Eðlisþyngd eftir sæti. "
   ]
  }
 ],
 "metadata": {
  "kernelspec": {
   "display_name": "Python 3",
   "language": "python",
   "name": "python3"
  },
  "language_info": {
   "codemirror_mode": {
    "name": "ipython",
    "version": 3
   },
   "file_extension": ".py",
   "mimetype": "text/x-python",
   "name": "python",
   "nbconvert_exporter": "python",
   "pygments_lexer": "ipython3",
   "version": "3.11.7"
  }
 },
 "nbformat": 4,
 "nbformat_minor": 2
}
