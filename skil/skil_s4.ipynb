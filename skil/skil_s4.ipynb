{
 "cells": [
  {
   "cell_type": "code",
   "execution_count": 4,
   "metadata": {},
   "outputs": [
    {
     "name": "stdout",
     "output_type": "stream",
     "text": [
      "Flokkur  Atkvæði  Hlutfall Þingsæti\n",
      "–––––––––––––––––––––––––––––––––\n",
      "Listi             Atkvæði          \n",
      "B                                  \n",
      "C                                  \n",
      "D                                  \n",
      "F                                  \n",
      "J                                  \n",
      "M                                  \n",
      "O                                  \n",
      "P                                  \n",
      "S                                  \n",
      "V                                  \n",
      "Y                                  \n"
     ]
    }
   ],
   "source": [
    "import csv\n",
    "from urllib.request import urlopen\n",
    "\n",
    "url = \"https://cs.hi.is/python/kosningar-2021.txt\"\n",
    "\n",
    "# Open the URL\n",
    "f = urlopen(url)\n",
    "\n",
    "# Assuming the file is encoded in UTF-8; adjust encoding as necessary\n",
    "lines = (line.decode('utf-8').strip() for line in f.readlines())\n",
    "\n",
    "# Create a CSV reader. Adjust delimiter if necessary\n",
    "reader = csv.reader(lines, delimiter=' ')\n",
    "\n",
    "# Print header  \n",
    "print(f\"{'Flokkur':<8} {'Atkvæði':<8} {'Hlutfall':<8} {'Þingsæti':<8}\")\n",
    "print('–––––––––––––––––––––––––––––––––')\n",
    "\n",
    "# Iterate over the CSV rows\n",
    "for row in reader:\n",
    "    if len(row) >= 4:  # Ensure there are enough values to unpack\n",
    "        # You might need to adjust indexing if there are unexpected additional columns\n",
    "        flokkur, atkvæði, hlutfall, þingsæti = row[:4]\n",
    "        print(f\"{flokkur:<8} {atkvæði:<8} {hlutfall:<8} {þingsæti:<8}\")\n"
   ]
  }
 ],
 "metadata": {
  "kernelspec": {
   "display_name": "Python 3",
   "language": "python",
   "name": "python3"
  },
  "language_info": {
   "codemirror_mode": {
    "name": "ipython",
    "version": 3
   },
   "file_extension": ".py",
   "mimetype": "text/x-python",
   "name": "python",
   "nbconvert_exporter": "python",
   "pygments_lexer": "ipython3",
   "version": "3.12.0"
  }
 },
 "nbformat": 4,
 "nbformat_minor": 2
}
