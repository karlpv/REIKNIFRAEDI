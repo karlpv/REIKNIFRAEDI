{
 "cells": [
  {
   "cell_type": "code",
   "execution_count": null,
   "metadata": {},
   "outputs": [],
   "source": [
    "# Dæmi 39 Nálgun við pí\n"
   ]
  },
  {
   "cell_type": "code",
   "execution_count": 53,
   "metadata": {},
   "outputs": [
    {
     "name": "stdout",
     "output_type": "stream",
     "text": [
      "svar: 0.1973955\n",
      "svar: 0.197395559849881\n",
      "svar: 3.141592653589792\n"
     ]
    }
   ],
   "source": [
    "import math\n",
    "def tayloratan(x,n):\n",
    "    sum = x\n",
    "    lid = x  \n",
    "    for k in range(3,2*n+1,2):\n",
    "        lid *= -x*x\n",
    "        sum += lid / k \n",
    "    return sum\n",
    "        \n",
    "print(f'svar: {tayloratan(0.2,4):.7f}')\n",
    "print(f'svar: {tayloratan(0.2,10):.15f}')\n",
    "\n",
    "\n",
    "def machin(n):\n",
    "    fx = 4 * tayloratan(1/5,n) - tayloratan(1/239,n)\n",
    "    pi = fx*4\n",
    "    return pi\n",
    "print(f'svar: {machin(10):.15f}')"
   ]
  }
 ],
 "metadata": {
  "kernelspec": {
   "display_name": "Python 3",
   "language": "python",
   "name": "python3"
  },
  "language_info": {
   "codemirror_mode": {
    "name": "ipython",
    "version": 3
   },
   "file_extension": ".py",
   "mimetype": "text/x-python",
   "name": "python",
   "nbconvert_exporter": "python",
   "pygments_lexer": "ipython3",
   "version": "3.11.7"
  }
 },
 "nbformat": 4,
 "nbformat_minor": 2
}
