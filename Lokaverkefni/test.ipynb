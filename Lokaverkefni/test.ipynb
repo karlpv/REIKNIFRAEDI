{
 "cells": [
  {
   "cell_type": "code",
   "execution_count": 3,
   "metadata": {},
   "outputs": [
    {
     "name": "stdout",
     "output_type": "stream",
     "text": [
      "[1 2 3 4]\n"
     ]
    }
   ],
   "source": [
    "import numpy as np\n",
    "\n",
    "def run_kmeans(data, k, max_iter=100):\n",
    "    n = data.shape[0]\n",
    "    Centroids=np.array([]).reshape(n,0)\n",
    "\n",
    "\n",
    "k = 5"
   ]
  },
  {
   "cell_type": "code",
   "execution_count": 11,
   "metadata": {},
   "outputs": [
    {
     "name": "stdout",
     "output_type": "stream",
     "text": [
      "[0. 0. 2. 2. 1. 2. 1. 0. 1. 1. 1. 1. 0. 1. 2. 1. 2. 1. 1. 1. 0. 1. 1. 1.\n",
      " 0. 0. 0. 2. 1. 0. 0. 1. 1. 1. 0. 2. 1. 2. 1. 0. 2. 2. 1. 1. 1. 1. 1. 1.\n",
      " 0. 1. 0. 2. 0. 1. 1. 2. 0. 2. 1. 1. 1. 1. 2. 2. 1. 2. 1. 1. 2. 2. 0. 2.\n",
      " 2. 0. 0. 0. 0. 0. 1. 2. 0. 0. 1. 1. 0. 0. 2. 0. 0. 2. 2. 2. 1. 2. 2. 0.\n",
      " 0. 2. 1. 1.] [[0.60063229 0.81569612]\n",
      " [0.22620195 0.39890323]\n",
      " [0.79122737 0.28506823]]\n"
     ]
    }
   ],
   "source": [
    "import numpy as np\n",
    "\n",
    "def euclidean_distance(x1, x2):\n",
    "    return np.sqrt(np.sum((x1 - x2)**2))\n",
    "\n",
    "def kmeans(data, k, max_iterations=100):\n",
    "    # Step 1: Initialize centroids\n",
    "    centroids = data[np.random.choice(range(data.shape[0]), size=k, replace=False)]\n",
    "\n",
    "    for _ in range(max_iterations):\n",
    "        clusters = np.zeros(data.shape[0])\n",
    "\n",
    "        # Step 2: Assign clusters\n",
    "        for i, x in enumerate(data):\n",
    "            distances = [euclidean_distance(x, c) for c in centroids]\n",
    "            clusters[i] = np.argmin(distances)\n",
    "\n",
    "        # Step 3: Update centroids\n",
    "        new_centroids = np.array([data[clusters == i].mean(axis=0) for i in range(k)])\n",
    "\n",
    "        # Check for convergence\n",
    "        if np.all(centroids == new_centroids):\n",
    "            break\n",
    "\n",
    "        centroids = new_centroids\n",
    "\n",
    "    return clusters, centroids\n",
    "\n",
    "# Example usage\n",
    "data = np.random.rand(100, 2) # 100 data points in 2D\n",
    "k = 3 # Number of clusters\n",
    "clusters, centroids = kmeans(data, k)\n",
    "\n",
    "\n",
    "print(clusters,centroids)\n"
   ]
  }
 ],
 "metadata": {
  "kernelspec": {
   "display_name": "Python 3",
   "language": "python",
   "name": "python3"
  },
  "language_info": {
   "codemirror_mode": {
    "name": "ipython",
    "version": 3
   },
   "file_extension": ".py",
   "mimetype": "text/x-python",
   "name": "python",
   "nbconvert_exporter": "python",
   "pygments_lexer": "ipython3",
   "version": "3.10.12"
  }
 },
 "nbformat": 4,
 "nbformat_minor": 2
}
