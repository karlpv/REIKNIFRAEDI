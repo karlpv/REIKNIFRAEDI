{
 "cells": [
  {
   "cell_type": "code",
   "execution_count": 1,
   "metadata": {},
   "outputs": [],
   "source": [
    "import random\n",
    "import numpy as np\n",
    "import pandas as pd\n",
    "import matplotlib.pyplot as plt"
   ]
  },
  {
   "cell_type": "code",
   "execution_count": 2,
   "metadata": {},
   "outputs": [],
   "source": [
    "#Hledur fashion mnist gagnasettid\n",
    "#hafid path sem toma strenginn ef skrain er i somu moppu og tid erud ad vinna i\n",
    "def load_f_mnist(path, kind=\"train\"):\n",
    "    import os\n",
    "    import gzip\n",
    "\n",
    "    \"\"\"Load MNIST data from `path`\"\"\"\n",
    "    labels_path = os.path.join(path, \"%s-labels-idx1-ubyte.gz\" % kind)\n",
    "    images_path = os.path.join(path, \"%s-images-idx3-ubyte.gz\" % kind)\n",
    "\n",
    "    with gzip.open(labels_path, \"rb\") as lbpath:\n",
    "        labels = np.frombuffer(lbpath.read(), dtype=np.uint8, offset=8)\n",
    "\n",
    "    with gzip.open(images_path, \"rb\") as imgpath:\n",
    "        images = np.frombuffer(imgpath.read(), dtype=np.uint8, offset=16).reshape(len(labels), 784)\n",
    "\n",
    "    return images, labels\n",
    "\n",
    "#Hledur mnist gagnasettid\n",
    "#hafid path sem toma strenginn ef skrain er i somu moppu og tid erud ad vinna i\n",
    "def load_mnist(path, kind=\"train\"):\n",
    "    import os\n",
    "    import gzip\n",
    "\n",
    "    \"\"\"Load MNIST data from `path`\"\"\"\n",
    "    #labels_path = os.path.join(path, \"mnist_%s-labels-idx1-ubyte.gz\" % kind)\n",
    "    #images_path = os.path.join(path, \"mnist_%s-images-idx3-ubyte.gz\" % kind)\n",
    "    labels_path = os.path.join(path, \"t10k-labels-idx1-ubyte.gz\")\n",
    "    images_path = os.path.join(path, \"t10k-images-idx3-ubyte.gz\")\n",
    "\n",
    "    with gzip.open(labels_path, \"rb\") as lbpath:\n",
    "        labels = np.frombuffer(lbpath.read(), dtype=np.uint8, offset=8)\n",
    "\n",
    "    with gzip.open(images_path, \"rb\") as imgpath:\n",
    "        images = np.frombuffer(imgpath.read(), dtype=np.uint8, offset=16).reshape(len(labels), 784)\n",
    "\n",
    "    return images, labels\n"
   ]
  },
  {
   "cell_type": "code",
   "execution_count": 3,
   "metadata": {},
   "outputs": [],
   "source": [
    "def plot_result(X,clust, output):\n",
    "    plt.figure(figsize=(20, 20))\n",
    "    for i in range(1, 101):\n",
    "        plt.subplot(10, 10, i)\n",
    "        plt.imshow(X[np.where(output == clust)][i].reshape(28, 28), cmap=plt.cm.binary)\n",
    "        plt.show()"
   ]
  },
  {
   "cell_type": "code",
   "execution_count": 4,
   "metadata": {},
   "outputs": [],
   "source": [
    "import numpy as np\n",
    "\n",
    "def euclidean_distance(x, y):\n",
    "    return np.sqrt(np.sum((x - y)**2))\n",
    "\n",
    "def run_kmeans(data, k, max_iter=100):\n",
    "    centroids = data[np.random.choice(range(data.shape[0]), size=k)] # centroids\n",
    "    \n",
    "    for _ in range(max_iter):\n",
    "        # Step 2: Assign clusters\n",
    "        clusters = assign(data, centroids)\n",
    "        \n",
    "        # Step 3: Update centroids\n",
    "        new_centroids = update(data, clusters, centroids)\n",
    "        \n",
    "        # Check for convergence\n",
    "        if np.all(centroids == new_centroids):\n",
    "            break\n",
    "        \n",
    "        centroids = new_centroids\n",
    "\n",
    "    return clusters, centroids\n",
    "\n",
    "def assign(data, centroids):\n",
    "    clusters = np.zeros(data.shape[0])\n",
    "    for i, x in enumerate(data):\n",
    "        distances = [euclidean_distance(x, c) for c in centroids]\n",
    "        clusters[i] = np.argmin(distances)\n",
    "    return clusters\n",
    "\n",
    "def update(data, assignments, centroids):\n",
    "    new_centroids = np.array([data[assignments == i].mean(axis=0) for i in range(len(centroids))])\n",
    "    return new_centroids\n",
    "\n",
    "\n"
   ]
  },
  {
   "cell_type": "code",
   "execution_count": null,
   "metadata": {},
   "outputs": [],
   "source": []
  },
  {
   "cell_type": "code",
   "execution_count": 5,
   "metadata": {},
   "outputs": [
    {
     "ename": "KeyboardInterrupt",
     "evalue": "",
     "output_type": "error",
     "traceback": [
      "\u001b[0;31m---------------------------------------------------------------------------\u001b[0m",
      "\u001b[0;31mKeyboardInterrupt\u001b[0m                         Traceback (most recent call last)",
      "Cell \u001b[0;32mIn[5], line 2\u001b[0m\n\u001b[1;32m      1\u001b[0m X, labels \u001b[38;5;241m=\u001b[39m load_mnist(\u001b[38;5;124m\"\u001b[39m\u001b[38;5;124mgogn\u001b[39m\u001b[38;5;124m\"\u001b[39m)\n\u001b[0;32m----> 2\u001b[0m assignments_orig \u001b[38;5;241m=\u001b[39m \u001b[43mrun_kmeans\u001b[49m\u001b[43m(\u001b[49m\u001b[43mX\u001b[49m\u001b[43m,\u001b[49m\u001b[38;5;241;43m10\u001b[39;49m\u001b[43m)\u001b[49m\n\u001b[1;32m      3\u001b[0m plot_result(X,\u001b[38;5;241m3\u001b[39m,assignments_orig)\n",
      "Cell \u001b[0;32mIn[4], line 22\u001b[0m, in \u001b[0;36mrun_kmeans\u001b[0;34m(data, k, max_iter)\u001b[0m\n\u001b[1;32m     18\u001b[0m centroids \u001b[38;5;241m=\u001b[39m data[np\u001b[38;5;241m.\u001b[39mrandom\u001b[38;5;241m.\u001b[39mchoice(\u001b[38;5;28mrange\u001b[39m(data\u001b[38;5;241m.\u001b[39mshape[\u001b[38;5;241m0\u001b[39m]), size\u001b[38;5;241m=\u001b[39mk)] \u001b[38;5;66;03m# centroids\u001b[39;00m\n\u001b[1;32m     20\u001b[0m \u001b[38;5;28;01mfor\u001b[39;00m _ \u001b[38;5;129;01min\u001b[39;00m \u001b[38;5;28mrange\u001b[39m(max_iter):\n\u001b[1;32m     21\u001b[0m     \u001b[38;5;66;03m# Step 2: Assign clusters\u001b[39;00m\n\u001b[0;32m---> 22\u001b[0m     clusters \u001b[38;5;241m=\u001b[39m \u001b[43massign\u001b[49m\u001b[43m(\u001b[49m\u001b[43mdata\u001b[49m\u001b[43m,\u001b[49m\u001b[43m \u001b[49m\u001b[43mcentroids\u001b[49m\u001b[43m)\u001b[49m\n\u001b[1;32m     24\u001b[0m     \u001b[38;5;66;03m# Step 3: Update centroids\u001b[39;00m\n\u001b[1;32m     25\u001b[0m     new_centroids \u001b[38;5;241m=\u001b[39m update(data, clusters, centroids)\n",
      "Cell \u001b[0;32mIn[4], line 10\u001b[0m, in \u001b[0;36massign\u001b[0;34m(data, centroids)\u001b[0m\n\u001b[1;32m      8\u001b[0m \u001b[38;5;28;01mfor\u001b[39;00m i, x \u001b[38;5;129;01min\u001b[39;00m \u001b[38;5;28menumerate\u001b[39m(data):\n\u001b[1;32m      9\u001b[0m     distances \u001b[38;5;241m=\u001b[39m [euclidean_distance(x, c) \u001b[38;5;28;01mfor\u001b[39;00m c \u001b[38;5;129;01min\u001b[39;00m centroids]\n\u001b[0;32m---> 10\u001b[0m     clusters[i] \u001b[38;5;241m=\u001b[39m \u001b[43mnp\u001b[49m\u001b[38;5;241;43m.\u001b[39;49m\u001b[43margmin\u001b[49m\u001b[43m(\u001b[49m\u001b[43mdistances\u001b[49m\u001b[43m)\u001b[49m\n\u001b[1;32m     11\u001b[0m \u001b[38;5;28;01mreturn\u001b[39;00m clusters\n",
      "File \u001b[0;32m/usr/lib/python3.11/site-packages/numpy/core/fromnumeric.py:1232\u001b[0m, in \u001b[0;36m_argmin_dispatcher\u001b[0;34m(a, axis, out, keepdims)\u001b[0m\n\u001b[1;32m   1228\u001b[0m     kwds \u001b[38;5;241m=\u001b[39m {\u001b[38;5;124m'\u001b[39m\u001b[38;5;124mkeepdims\u001b[39m\u001b[38;5;124m'\u001b[39m: keepdims} \u001b[38;5;28;01mif\u001b[39;00m keepdims \u001b[38;5;129;01mis\u001b[39;00m \u001b[38;5;129;01mnot\u001b[39;00m np\u001b[38;5;241m.\u001b[39m_NoValue \u001b[38;5;28;01melse\u001b[39;00m {}\n\u001b[1;32m   1229\u001b[0m     \u001b[38;5;28;01mreturn\u001b[39;00m _wrapfunc(a, \u001b[38;5;124m'\u001b[39m\u001b[38;5;124margmax\u001b[39m\u001b[38;5;124m'\u001b[39m, axis\u001b[38;5;241m=\u001b[39maxis, out\u001b[38;5;241m=\u001b[39mout, \u001b[38;5;241m*\u001b[39m\u001b[38;5;241m*\u001b[39mkwds)\n\u001b[0;32m-> 1232\u001b[0m \u001b[38;5;28;01mdef\u001b[39;00m \u001b[38;5;21m_argmin_dispatcher\u001b[39m(a, axis\u001b[38;5;241m=\u001b[39m\u001b[38;5;28;01mNone\u001b[39;00m, out\u001b[38;5;241m=\u001b[39m\u001b[38;5;28;01mNone\u001b[39;00m, \u001b[38;5;241m*\u001b[39m, keepdims\u001b[38;5;241m=\u001b[39mnp\u001b[38;5;241m.\u001b[39m_NoValue):\n\u001b[1;32m   1233\u001b[0m     \u001b[38;5;28;01mreturn\u001b[39;00m (a, out)\n\u001b[1;32m   1236\u001b[0m \u001b[38;5;129m@array_function_dispatch\u001b[39m(_argmin_dispatcher)\n\u001b[1;32m   1237\u001b[0m \u001b[38;5;28;01mdef\u001b[39;00m \u001b[38;5;21margmin\u001b[39m(a, axis\u001b[38;5;241m=\u001b[39m\u001b[38;5;28;01mNone\u001b[39;00m, out\u001b[38;5;241m=\u001b[39m\u001b[38;5;28;01mNone\u001b[39;00m, \u001b[38;5;241m*\u001b[39m, keepdims\u001b[38;5;241m=\u001b[39mnp\u001b[38;5;241m.\u001b[39m_NoValue):\n",
      "\u001b[0;31mKeyboardInterrupt\u001b[0m: "
     ]
    }
   ],
   "source": [
    "X, labels = load_mnist(\"gogn\")\n",
    "assignments_orig = run_kmeans(X,10)\n",
    "plot_result(X,3,assignments_orig)"
   ]
  }
 ],
 "metadata": {
  "kernelspec": {
   "display_name": "Python 3",
   "language": "python",
   "name": "python3"
  },
  "language_info": {
   "codemirror_mode": {
    "name": "ipython",
    "version": 3
   },
   "file_extension": ".py",
   "mimetype": "text/x-python",
   "name": "python",
   "nbconvert_exporter": "python",
   "pygments_lexer": "ipython3",
   "version": "3.11.8"
  }
 },
 "nbformat": 4,
 "nbformat_minor": 2
}
