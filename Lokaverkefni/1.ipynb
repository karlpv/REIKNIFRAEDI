{
 "cells": [
  {
   "cell_type": "code",
   "execution_count": null,
   "metadata": {},
   "outputs": [],
   "source": [
    "import random\n",
    "import numpy as np\n",
    "import pandas as pd\n",
    "import matplotlib.pyplot as plt"
   ]
  },
  {
   "cell_type": "code",
   "execution_count": null,
   "metadata": {},
   "outputs": [],
   "source": [
    "#Hledur fashion mnist gagnasettid\n",
    "#hafid path sem toma strenginn ef skrain er i somu moppu og tid erud ad vinna i\n",
    "def load_f_mnist(path, kind=\"train\"):\n",
    "    import os\n",
    "    import gzip\n",
    "\n",
    "    \"\"\"Load MNIST data from `path`\"\"\"\n",
    "    labels_path = os.path.join(path, \"%s-labels-idx1-ubyte.gz\" % kind)\n",
    "    images_path = os.path.join(path, \"%s-images-idx3-ubyte.gz\" % kind)\n",
    "\n",
    "    with gzip.open(labels_path, \"rb\") as lbpath:\n",
    "        labels = np.frombuffer(lbpath.read(), dtype=np.uint8, offset=8)\n",
    "\n",
    "    with gzip.open(images_path, \"rb\") as imgpath:\n",
    "        images = np.frombuffer(imgpath.read(), dtype=np.uint8, offset=16).reshape(len(labels), 784)\n",
    "\n",
    "    return images, labels\n",
    "\n",
    "#Hledur mnist gagnasettid\n",
    "#hafid path sem toma strenginn ef skrain er i somu moppu og tid erud ad vinna i\n",
    "def load_mnist(path, kind=\"train\"):\n",
    "    import os\n",
    "    import gzip\n",
    "\n",
    "    \"\"\"Load MNIST data from `path`\"\"\"\n",
    "    #labels_path = os.path.join(path, \"mnist_%s-labels-idx1-ubyte.gz\" % kind)\n",
    "    #images_path = os.path.join(path, \"mnist_%s-images-idx3-ubyte.gz\" % kind)\n",
    "    labels_path = os.path.join(path, \"t10k-labels-idx1-ubyte.gz\")\n",
    "    images_path = os.path.join(path, \"t10k-images-idx3-ubyte.gz\")\n",
    "\n",
    "    with gzip.open(labels_path, \"rb\") as lbpath:\n",
    "        labels = np.frombuffer(lbpath.read(), dtype=np.uint8, offset=8)\n",
    "\n",
    "    with gzip.open(images_path, \"rb\") as imgpath:\n",
    "        images = np.frombuffer(imgpath.read(), dtype=np.uint8, offset=16).reshape(len(labels), 784)\n",
    "\n",
    "    return images, labels\n"
   ]
  },
  {
   "cell_type": "code",
   "execution_count": null,
   "metadata": {},
   "outputs": [],
   "source": [
    "def plot_result(X,clust, output):\n",
    "    plt.figure(figsize=(20, 20))\n",
    "    for i in range(1, 101):\n",
    "        plt.subplot(10, 10, i)\n",
    "        plt.imshow(X[np.where(output == clust)][i].reshape(28, 28), cmap=plt.cm.binary)\n",
    "        plt.show()"
   ]
  },
  {
   "cell_type": "code",
   "execution_count": null,
   "metadata": {},
   "outputs": [],
   "source": [
    "import numpy as np\n",
    "\n",
    "def euclidean_distance(x, y):\n",
    "    return np.sqrt(np.sum((x - y)**2))\n",
    "\n",
    "def run_kmeans(data, k, max_iter=100):\n",
    "    centroids = data[np.random.choice(range(data.shape[0]), size=k)] # centroids\n",
    "\n",
    "    for _ in range(max_iter):\n",
    "        # Step 2: Assign clusters\n",
    "        clusters = assign(data, centroids)\n",
    "\n",
    "        # Step 3: Update centroids\n",
    "        new_centroids = update(data, clusters, centroids)\n",
    "\n",
    "        # Check for convergence\n",
    "        if np.all(centroids == new_centroids):\n",
    "            break\n",
    "\n",
    "        centroids = new_centroids\n",
    "\n",
    "    return clusters, centroids\n",
    "\n",
    "def assign(data, centroids):\n",
    "    clusters = np.zeros(data.shape[0])\n",
    "    for i, x in enumerate(data):\n",
    "        distances = [euclidean_distance(x, c) for c in centroids]\n",
    "        clusters[i] = np.argmin(distances)\n",
    "    return clusters\n",
    "\n",
    "def update(data, assignments, centroids):\n",
    "    new_centroids = np.array([data[assignments == i].mean(axis=0) for i in range(len(centroids))])\n",
    "    return new_centroids\n",
    "\n",
    "\n"
   ]
  },
  {
   "cell_type": "code",
   "execution_count": null,
   "metadata": {},
   "outputs": [],
   "source": []
  },
  {
   "cell_type": "code",
   "execution_count": null,
   "metadata": {},
   "outputs": [],
   "source": [
    "X, labels = load_mnist(\"gogn\")\n",
    "assignments_orig = run_kmeans(X,10)\n",
    "plot_result(X,3,assignments_orig)"
   ]
  }
 ],
 "metadata": {
  "kernelspec": {
   "display_name": "Python 3",
   "language": "python",
   "name": "python3"
  },
  "language_info": {
   "codemirror_mode": {
    "name": "ipython",
    "version": 3
   },
   "file_extension": ".py",
   "mimetype": "text/x-python",
   "name": "python",
   "nbconvert_exporter": "python",
   "pygments_lexer": "ipython3",
   "version": "3.10.12"
  }
 },
 "nbformat": 4,
 "nbformat_minor": 2
}
