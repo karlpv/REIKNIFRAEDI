{
 "cells": [
  {
   "cell_type": "code",
   "execution_count": 62,
   "metadata": {},
   "outputs": [],
   "source": [
    "import random\n",
    "import numpy as np\n",
    "import pandas as pd\n",
    "import matplotlib.pyplot as plt"
   ]
  },
  {
   "cell_type": "code",
   "execution_count": 63,
   "metadata": {},
   "outputs": [],
   "source": [
    "def load_f_mnist(path, kind=\"train\"):\n",
    "    import os\n",
    "    import gzip\n",
    "\n",
    "    \"\"\"Load MNIST data from `path`\"\"\"\n",
    "    labels_path = os.path.join(path, \"%s-labels-idx1-ubyte.gz\" % kind)\n",
    "    images_path = os.path.join(path, \"%s-images-idx3-ubyte.gz\" % kind)\n",
    "\n",
    "    with gzip.open(labels_path, \"rb\") as lbpath:\n",
    "        labels = np.frombuffer(lbpath.read(), dtype=np.uint8, offset=8)\n",
    "\n",
    "    with gzip.open(images_path, \"rb\") as imgpath:\n",
    "        images = np.frombuffer(imgpath.read(), dtype=np.uint8, offset=16).reshape(len(labels), 784)\n",
    "\n",
    "    return images, labels\n",
    "\n",
    "#Hledur mnist gagnasettid\n",
    "#hafid path sem toma strenginn ef skrain er i somu moppu og tid erud ad vinna i\n",
    "def load_mnist(path, kind=\"train\"):\n",
    "    import os\n",
    "    import gzip\n",
    "\n",
    "    \"\"\"Load MNIST data from `path`\"\"\"\n",
    "    labels_path = os.path.join(path, \"mnist_%s-labels-idx1-ubyte.gz\" % kind)\n",
    "    images_path = os.path.join(path, \"mnist_%s-images-idx3-ubyte.gz\" % kind)\n",
    "    #labels_path = os.path.join(path, \"t10k-labels-idx1-ubyte.gz\")\n",
    "    #images_path = os.path.join(path, \"t10k-images-idx3-ubyte.gz\")\n",
    "\n",
    "    with gzip.open(labels_path, \"rb\") as lbpath:\n",
    "        labels = np.frombuffer(lbpath.read(), dtype=np.uint8, offset=8)\n",
    "\n",
    "    with gzip.open(images_path, \"rb\") as imgpath:\n",
    "        images = np.frombuffer(imgpath.read(), dtype=np.uint8, offset=16).reshape(len(labels), 784)\n",
    "\n",
    "    return images, labels"
   ]
  },
  {
   "cell_type": "code",
   "execution_count": 64,
   "metadata": {},
   "outputs": [],
   "source": [
    "X, labels = load_mnist(\"./gogn\") #mnist\n",
    "X_f, labels_f = load_f_mnist(\"./gogn\")  #fashion mnsist"
   ]
  },
  {
   "cell_type": "code",
   "execution_count": 65,
   "metadata": {},
   "outputs": [],
   "source": [
    "def plot_one(X, i):\n",
    "    one_image = X[i].reshape(28, 28)  # Use index 'i' to select the image\n",
    "    plt.figure()\n",
    "    plt.imshow(one_image, cmap=\"gray\")\n",
    "    plt.show()\n"
   ]
  },
  {
   "cell_type": "code",
   "execution_count": 66,
   "metadata": {},
   "outputs": [
    {
     "data": {
      "image/png": "[encoded data removed]",
      "text/plain": [
       "<Figure size 640x480 with 1 Axes>"
      ]
     },
     "metadata": {},
     "output_type": "display_data"
    },
    {
     "data": {
      "image/png": "[encoded data removed]",
      "text/plain": [
       "<Figure size 640x480 with 1 Axes>"
      ]
     },
     "metadata": {},
     "output_type": "display_data"
    }
   ],
   "source": [
    "plot_one(X,10)\n",
    "plot_one(X_f,101)"
   ]
  },
  {
   "cell_type": "code",
   "execution_count": 67,
   "metadata": {},
   "outputs": [],
   "source": [
    "def run_kmeans(data, k, max_iter=100):\n",
    "\n",
    "    def assign(data, centroids):\n",
    "\n",
    "        assignments = np.zeros(data.shape[0])\n",
    "\n",
    "        for i in range(data.shape[0]):\n",
    "\n",
    "            distances = np.linalg.norm(data[i] - centroids, axis=1)\n",
    "\n",
    "            assignments[i] = np.argmin(distances)\n",
    "\n",
    "        return assignments\n",
    "\n",
    "    def update(data, assignments, centroids):\n",
    "\n",
    "        new_centroids = np.zeros((k, data.shape[1]))\n",
    "\n",
    "        for i in range(k):\n",
    "\n",
    "            assigned_data = data[assignments == i]\n",
    "\n",
    "            if len(assigned_data) > 0:\n",
    "\n",
    "                new_centroids[i] = np.mean(assigned_data, axis=0)\n",
    "\n",
    "        return new_centroids\n",
    "\n",
    "    centroids = data[np.random.choice(data.shape[0], k, replace=False)]\n",
    "\n",
    "    for _ in range(max_iter):\n",
    "\n",
    "        assignments = assign(data, centroids)\n",
    "\n",
    "        centroids = update(data, assignments, centroids)\n",
    "\n",
    "\n",
    "    return assignments\n"
   ]
  },
  {
   "cell_type": "code",
   "execution_count": 68,
   "metadata": {},
   "outputs": [],
   "source": [
    "# her erum vid ad keyra kmeans a fashion mnist gagnasettid\n",
    "#assignments = run_kmeans(X_f,10)\n",
    "assignments_orig = run_kmeans(X,10)"
   ]
  },
  {
   "cell_type": "code",
   "execution_count": null,
   "metadata": {},
   "outputs": [],
   "source": [
    "\"\"\"def plot_result(X,clust, output):\n",
    "    plt.figure(figsize=(20, 20))\n",
    "    for i in range(1, 101):\n",
    "        plt.subplot(10, 10, i)\n",
    "        plt.imshow(X[np.where(output == clust)][i].reshape(28, 28), cmap=plt.cm.binary)\n",
    "        plt.show()\n",
    "\"\"\"       \n",
    "        \n",
    "def plot_result(X, clust, output):\n",
    "    # Determine the number of images in the cluster\n",
    "    cluster_indices = np.where(output == clust)[0]\n",
    "    n_images = min(len(cluster_indices), 100)  # Display up to 100 images\n",
    "    \n",
    "    # Calculate the grid size\n",
    "    rows = int(np.sqrt(n_images))\n",
    "    cols = (n_images + rows - 1) // rows  # Ensure enough columns to display all images\n",
    "    \n",
    "    # Create the plot\n",
    "    plt.figure(figsize=(cols * 2, rows * 2))\n",
    "    for idx, i in enumerate(cluster_indices[:n_images]):\n",
    "        plt.subplot(rows, cols, idx + 1)\n",
    "        plt.imshow(X[i].reshape(28, 28), cmap=plt.cm.binary)\n",
    "        plt.axis('off')  # Hide the axis\n",
    "    plt.tight_layout()\n",
    "    plt.show()"
   ]
  },
  {
   "cell_type": "code",
   "execution_count": null,
   "metadata": {},
   "outputs": [],
   "source": [
    "#her eru fyrstu 100 stokin sem vid reikniritið mitt flokkaði i flokk 2.\n",
    "# sjaum að þetta er líklegast kjóla flokkurinn en eitthvað af bolum og buxum hafa dottið með. Smá óhjákvæmilegt.\n",
    "#plot_result(X_f,2,assignments)"
   ]
  },
  {
   "cell_type": "code",
   "execution_count": null,
   "metadata": {},
   "outputs": [],
   "source": [
    "#her eru fyrstu 100 stokin sem vid reikniritið mitt flokkaði i flokk 3 i upprunalega mnist (tölurnar þeas).\n",
    "# sjaum að þetta er talan 6. Hinsvegar hafa laumast inn einn tvistur og nokkrir fjarkar og slíkt. Samt nokkuð gott. \n",
    "plot_result(X,3,assignments_orig)"
   ]
  },
  {
   "cell_type": "markdown",
   "metadata": {},
   "source": [
    "Flokkar stemma ekki endilega milli labela, sem er rétta svarið og svo assignments hjá okkur. Þeas við gætum sett alla tvista í flokk 2 en í labels(rétta svarinu) er það í flokk 5. Við þurfum því aðeins að umrita. Hvernig getum við synt hversu nákvæmt líkanið okkar er. Úthlutum hverjum flokk í giskinu okkar, assignments hér að ofan"
   ]
  },
  {
   "cell_type": "code",
   "execution_count": null,
   "metadata": {},
   "outputs": [],
   "source": [
    "#ef assignments eru lokagiskid okkar og labels eru retta svarid sem vid faum tegar vid tokum inn gognin\n",
    "#og cat er einhver flokkur \n",
    "#tetta fall tetta fall okkur besta gisk a hvada flokkur tetta er i labels.\n",
    "def get_real_category(assignment,labels,cat):\n",
    "    a = labels[np.where(assignment==cat)]\n",
    "    unique, counts = np.unique(a, return_counts=True)\n",
    "    return dict(zip(unique, counts))"
   ]
  },
  {
   "cell_type": "code",
   "execution_count": null,
   "metadata": {},
   "outputs": [],
   "source": [
    "d = get_real_category(assignments_orig,labels,1)\n",
    "#d = get_real_category(assignments,labels,1)\n",
    "print(d)"
   ]
  },
  {
   "cell_type": "code",
   "execution_count": null,
   "metadata": {},
   "outputs": [],
   "source": [
    "#Sjaum ad ofan ad okkar flokkur 1 er i raunveruleikanum flokkur 8.\n",
    "#sem tydir ad vid flokkum í flokk 1 með um 72% nákvæmni\n",
    "d[8]/sum(d.values())"
   ]
  },
  {
   "cell_type": "markdown",
   "metadata": {},
   "source": [
    "Við flokkum í flokk 1 með um 72% nákvæmni. Sem ef má sjá að neðan stemmir því þetta er \"raunverulega\" flokkur 8. Það fylgja einhverjir, ásar, fimmur og þristar með."
   ]
  },
  {
   "cell_type": "code",
   "execution_count": null,
   "metadata": {},
   "outputs": [],
   "source": [
    "plot_result(X,1,assignments_orig)\n",
    "#plot_result(X,1,assignments)"
   ]
  }
 ],
 "metadata": {
  "kernelspec": {
   "display_name": "rei",
   "language": "python",
   "name": "python3"
  },
  "language_info": {
   "codemirror_mode": {
    "name": "ipython",
    "version": 3
   },
   "file_extension": ".py",
   "mimetype": "text/x-python",
   "name": "python",
   "nbconvert_exporter": "python",
   "pygments_lexer": "ipython3",
   "version": "3.11.8"
  }
 },
 "nbformat": 4,
 "nbformat_minor": 2
}
