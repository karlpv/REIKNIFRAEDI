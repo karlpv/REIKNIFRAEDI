{
 "cells": [
  {
   "cell_type": "markdown",
   "metadata": {},
   "source": [
    "# Stiglar og Lagmörkun + er punktur i plani"
   ]
  },
  {
   "cell_type": "code",
   "execution_count": 2,
   "metadata": {},
   "outputs": [
    {
     "name": "stdout",
     "output_type": "stream",
     "text": [
      "stigul p er [5 6]\n",
      "stefnuafleiðan í p er -7.78\n"
     ]
    }
   ],
   "source": [
    "import numpy as np\n",
    "p = (1,1)\n",
    "u = np.array([-1,-1])\n",
    "\n",
    "def func(x):\n",
    "    f = (x[0]**2)*x[1] + 2*x[0]*(x[1]**2) - (3*x[0]) * (x[1]) + 4\n",
    "    return f \n",
    "def gradient(x):\n",
    "    fx = (2*x[0])*x[1] + (2*x[1]**2) - (3*x[1])+4\n",
    "    fy = (x[0]**2) + (2*x[0]*2*x[1]) - 3*x[0]+4\n",
    "    grad = np.array([fx,fy])\n",
    "    return grad\n",
    "\n",
    "print(f'stigul p er {gradient(p)}')\n",
    "\n",
    "def direc_diff(x,u):\n",
    "    norm = np.linalg.norm(u)\n",
    "    unitv = (u/norm)\n",
    "    ddiff = np.dot(gradient(x),unitv)\n",
    "    return ddiff\n",
    "print(f'stefnuafleiðan í p er {direc_diff(p,u):0.2f}')\n",
    "\n",
    "\n"
   ]
  },
  {
   "cell_type": "code",
   "execution_count": 3,
   "metadata": {},
   "outputs": [
    {
     "name": "stdout",
     "output_type": "stream",
     "text": [
      "< True\n",
      "> False\n",
      "A = [4 2 3] : True \n",
      "B = [6 3 2] : False \n"
     ]
    }
   ],
   "source": [
    "def naestum_eins(u,v):\n",
    "    displacement = np.linalg.norm(u-v)\n",
    "    if displacement < 10e-8:\n",
    "        return True\n",
    "    else:\n",
    "        return False\n",
    "v1 = np.array([1, 1, 1])\n",
    "v2 = np.array([1.000000009, 1.000000009, 1.000000009])\n",
    "\n",
    "v3 = np.array([1, 1, 1])\n",
    "v4 = np.array([1.0000001, 1.0000001, 1.0000001])\n",
    "\n",
    "print(f'< {naestum_eins(v1,v2)}')\n",
    "print(f'> {naestum_eins(v3,v4)}')\n",
    "\n",
    "\n",
    "def i_plani(u, a, b):\n",
    "    fu = (a @ u) * a + (b @ u) * b \n",
    "    return naestum_eins(u, fu)\n",
    "\n",
    "A = np.array([4,2,3]) \n",
    "B = np.array([6,3,2]) \n",
    "\n",
    "a = np.array([0.48,0.64,0.60])\n",
    "b = np.array([0.8,-0.6,0])\n",
    "\n",
    "print(f'A = {A} : {i_plani(A,a,b) } \\nB = {B} : {i_plani(B,a,b)} ')\n"
   ]
  }
 ],
 "metadata": {
  "kernelspec": {
   "display_name": "Python 3",
   "language": "python",
   "name": "python3"
  },
  "language_info": {
   "codemirror_mode": {
    "name": "ipython",
    "version": 3
   },
   "file_extension": ".py",
   "mimetype": "text/x-python",
   "name": "python",
   "nbconvert_exporter": "python",
   "pygments_lexer": "ipython3",
   "version": "3.11.8"
  }
 },
 "nbformat": 4,
 "nbformat_minor": 2
}
