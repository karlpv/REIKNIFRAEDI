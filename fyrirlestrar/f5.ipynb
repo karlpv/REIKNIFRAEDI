{
 "cells": [
  {
   "cell_type": "markdown",
   "metadata": {},
   "source": [
    "# Fyrirlestraraefing 5\n",
    "#### Reikningar með numpy"
   ]
  },
  {
   "cell_type": "code",
   "execution_count": 28,
   "metadata": {},
   "outputs": [
    {
     "name": "stdout",
     "output_type": "stream",
     "text": [
      "a. 7.731619619663099\n",
      "\n",
      "b. [[ -54  112  348]\n",
      " [ -80  160  504]\n",
      " [-112  288 1080]]\n",
      "\n",
      "c. 10.000000000000002 \n",
      " [[-1.2  0.6  0.4]\n",
      " [ 0.5 -1.   0.5]\n",
      " [ 0.2  0.4 -0.4]]\n",
      "\n",
      "d. [-2.   1.5  0. ]\n"
     ]
    }
   ],
   "source": [
    "import numpy as np\n",
    "a = np.array([3,2,8]) \n",
    "b = np.array([2,0,1])\n",
    "c = np.array([-2,1,5])\n",
    "\n",
    "A = np.array([[2,4,7],[3,4,8],[4,6,9]])\n",
    "B = np.array([[5,5,5],[6,6,6],[7,8,9]])\n",
    "\n",
    "dot_ab = np.dot(a, b)\n",
    "\n",
    "Bb = np.dot(B, b)\n",
    "dot_c_Bb = np.dot(c, Bb)\n",
    "cnorm = 3 * np.linalg.norm(c)\n",
    "part1 = dot_ab - (dot_c_Bb / cnorm)\n",
    "print('a.',part1)\n",
    "\n",
    "\n",
    "AT_B2 = (np.transpose(A) + B**2)\n",
    "amin2b = (a - (2*b))\n",
    "part2 = 2 * (AT_B2) * (amin2b)\n",
    "print('\\nb.',part2)\n",
    "\n",
    "detA = np.linalg.det(A)\n",
    "invA = np.linalg.inv(A)\n",
    "print(\"\\nc.\",detA,'\\n', invA)\n",
    "\n",
    "x = np.linalg.solve(A, b)\n",
    "print('\\nd.',x)\n",
    "\n"
   ]
  }
 ],
 "metadata": {
  "kernelspec": {
   "display_name": "Python 3",
   "language": "python",
   "name": "python3"
  },
  "language_info": {
   "codemirror_mode": {
    "name": "ipython",
    "version": 3
   },
   "file_extension": ".py",
   "mimetype": "text/x-python",
   "name": "python",
   "nbconvert_exporter": "python",
   "pygments_lexer": "ipython3",
   "version": "3.11.7"
  }
 },
 "nbformat": 4,
 "nbformat_minor": 2
}
