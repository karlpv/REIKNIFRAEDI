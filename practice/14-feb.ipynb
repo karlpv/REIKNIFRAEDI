{
 "cells": [
  {
   "cell_type": "markdown",
   "metadata": {},
   "source": [
    "# 14 Februar\n",
    "### Vidsnuning lista"
   ]
  },
  {
   "cell_type": "code",
   "execution_count": 21,
   "metadata": {},
   "outputs": [
    {
     "ename": "IndexError",
     "evalue": "pop from empty list",
     "output_type": "error",
     "traceback": [
      "\u001b[0;31m---------------------------------------------------------------------------\u001b[0m",
      "\u001b[0;31mIndexError\u001b[0m                                Traceback (most recent call last)",
      "Cell \u001b[0;32mIn[21], line 7\u001b[0m\n\u001b[1;32m      4\u001b[0m     \u001b[38;5;28;01mreturn\u001b[39;00m tail\n\u001b[1;32m      6\u001b[0m list1 \u001b[38;5;241m=\u001b[39m [\u001b[38;5;241m1\u001b[39m,\u001b[38;5;241m2\u001b[39m,\u001b[38;5;241m3\u001b[39m,\u001b[38;5;241m4\u001b[39m,\u001b[38;5;241m5\u001b[39m]\n\u001b[0;32m----> 7\u001b[0m \u001b[38;5;28mprint\u001b[39m(\u001b[43mhali\u001b[49m\u001b[43m(\u001b[49m\u001b[38;5;28;43mlist\u001b[39;49m\u001b[43m)\u001b[49m)\n\u001b[1;32m      9\u001b[0m \u001b[38;5;28;01mdef\u001b[39;00m \u001b[38;5;21mhausaftast\u001b[39m(l):\n\u001b[1;32m     10\u001b[0m     aft \u001b[38;5;241m=\u001b[39m l\u001b[38;5;241m.\u001b[39mpop(\u001b[38;5;241m0\u001b[39m)\n",
      "Cell \u001b[0;32mIn[21], line 2\u001b[0m, in \u001b[0;36mhali\u001b[0;34m(l)\u001b[0m\n\u001b[1;32m      1\u001b[0m \u001b[38;5;28;01mdef\u001b[39;00m \u001b[38;5;21mhali\u001b[39m(l):\n\u001b[0;32m----> 2\u001b[0m     \u001b[43ml\u001b[49m\u001b[38;5;241;43m.\u001b[39;49m\u001b[43mpop\u001b[49m\u001b[43m(\u001b[49m\u001b[38;5;241;43m0\u001b[39;49m\u001b[43m)\u001b[49m\n\u001b[1;32m      3\u001b[0m     tail \u001b[38;5;241m=\u001b[39m l\n\u001b[1;32m      4\u001b[0m     \u001b[38;5;28;01mreturn\u001b[39;00m tail\n",
      "\u001b[0;31mIndexError\u001b[0m: pop from empty list"
     ]
    }
   ],
   "source": [
    "def hali(l):\n",
    "    l.pop(0)\n",
    "    tail = l\n",
    "    return tail\n",
    "\n",
    "list1 = [1,2,3,4,5]\n",
    "print(hali(list))\n",
    "\n",
    "def hausaftast(l):\n",
    "    aft = l.pop(0)\n",
    "    l.append(aft)\n",
    "    return l\n",
    "list2 = [1,2,3,4]\n",
    "print(hausaftast(list2))\\\n",
    "    \n",
    "def snuavid(l):\n",
    "    n = len(l)\n",
    "    m = []\n",
    "    for i in range(n,0,-1):\n",
    "        m.append(i)\n",
    "    return m\n",
    "list1 = [1,2,3,4,5]\n",
    "print(snuavid(list1))\n"
   ]
  },
  {
   "cell_type": "markdown",
   "metadata": {},
   "source": [
    "### ORDALEIKUR"
   ]
  },
  {
   "cell_type": "code",
   "execution_count": 38,
   "metadata": {},
   "outputs": [
    {
     "name": "stdout",
     "output_type": "stream",
     "text": [
      "[3, 4, 2, 4, 3]\n",
      "Shawty wantS SuSSy baka\n"
     ]
    }
   ],
   "source": [
    "def telja(s):\n",
    "    space = s.split()\n",
    "    list = []\n",
    "    for i in space:\n",
    "        list.append(len(i))\n",
    "    return list\n",
    "troll = \"Afi minn og amma min\"\n",
    "print(telja(troll))\n",
    "\n",
    "\n",
    "def hropa(s):\n",
    "    capped = s.replace(\"s\",\"S\")\n",
    "    return capped \n",
    "\n",
    "print(hropa(\"shawty wants sussy baka\"))"
   ]
  },
  {
   "cell_type": "markdown",
   "metadata": {},
   "source": [
    "### Medaltal og stadalfravik "
   ]
  },
  {
   "cell_type": "code",
   "execution_count": 44,
   "metadata": {},
   "outputs": [
    {
     "name": "stdout",
     "output_type": "stream",
     "text": [
      "(4.5, 3.0)\n",
      "\n",
      "(678.3333333333333, 1147.2163411202498)\n"
     ]
    }
   ],
   "source": [
    "import math\n",
    "def tolfraedi(x):\n",
    "    n = len(x)\n",
    "    sum = 0\n",
    "    for i in range(0,n):\n",
    "        sum += x[i]   \n",
    "    m = 1/n * sum \n",
    "    sus = 0\n",
    "    for i in range(0,n):\n",
    "        sus += (x[i] - m) ** 2\n",
    "    f = (1 / (n-1)) * (sus)\n",
    "    s = math.sqrt(f) \n",
    "    return m,s\n",
    "list1 = [3,7,7,1]\n",
    "list2 = [23,9,2003]\n",
    "print(tolfraedi(list1))\n",
    "print()\n",
    "print(tolfraedi(list2))"
   ]
  },
  {
   "cell_type": "markdown",
   "metadata": {},
   "source": [
    "### BOLURODUN / BUBBLESORT HAHAHAHAHHAHAAHAH \n",
    "víxlað = satt\n",
    "meðan víxlað\n",
    "   víxlað = ósatt\n",
    "   fyrir i=1,...,n-1:\n",
    "      ef x[i-1] > x[i] þá\n",
    "         víxla á x[i-1] og x[i]\n",
    "         víxlað = satt"
   ]
  },
  {
   "cell_type": "code",
   "execution_count": 48,
   "metadata": {},
   "outputs": [
    {
     "name": "stdout",
     "output_type": "stream",
     "text": [
      "[1, 2, 3, 4, 5, 8]\n"
     ]
    }
   ],
   "source": [
    "def bolurodun(x):\n",
    "    mixed = True\n",
    "    n = len(x)\n",
    "    while mixed: \n",
    "        mixed = False\n",
    "        for i in range(1,n):\n",
    "            if x[i-1] > x[i]:\n",
    "                temp = x[i]\n",
    "                x[i] = x[i-1]\n",
    "                x[i-1] = temp   \n",
    "                mixed = True\n",
    "    return x\n",
    "\n",
    "print(bolurodun([3,8,1,2,5,4]))\n",
    "\n",
    "            "
   ]
  },
  {
   "cell_type": "code",
   "execution_count": 63,
   "metadata": {},
   "outputs": [
    {
     "name": "stdout",
     "output_type": "stream",
     "text": [
      "(3.276608177155967, 2.294305745404184)\n",
      "Radius: 3.999, Angle: 35.001°\n"
     ]
    }
   ],
   "source": [
    "def pol2rec(r,theta):\n",
    "    theta_rad = math.radians(theta)\n",
    "    x = r * math.cos(theta_rad)\n",
    "    y = r * math.sin(theta_rad)     \n",
    "    \n",
    "    \n",
    "    return x, y\n",
    "\n",
    "print(pol2rec(4,35))\n",
    "\n",
    "\n",
    "def rec2pol(x,y):\n",
    "    theta = math.atan2(y,x) \n",
    "    \n",
    "    r = math.sqrt((x**2) + (y**2))\n",
    "    return r , math.degrees(theta)\n",
    "print(\"Radius: {:.3f}, Horn: {:.3f}°\".format(*rec2pol(3.276, 2.294)))\n"
   ]
  },
  {
   "cell_type": "code",
   "execution_count": 1,
   "metadata": {},
   "outputs": [
    {
     "name": "stdout",
     "output_type": "stream",
     "text": [
      "Gildi k=1 er: 2.0\n",
      "Gildi k=2 er: 10.0\n",
      "Gildi k=3 er: 18.0\n",
      "Gildi k=4 er: 36.0\n",
      "Gildi k=5 er: 54.0\n",
      "Gildi k=6 er: 86.0\n",
      "Gildi k=7 er: 118.0\n"
     ]
    }
   ],
   "source": [
    "k = [* range(1,8)]\n",
    "\n",
    "def Sk(k):\n",
    "    sk = ((k+1)*(k+2)*(k+3)) / (6)\n",
    "    if k % 2 == 0:\n",
    "        p2 = (k/2) -1\n",
    "    else:\n",
    "        p2 = -2\n",
    "    sum = sk + p2\n",
    "    return sum\n",
    "\n",
    "for i in range (len(k)): \n",
    "    print(f\"Gildi k={k[i]} er: {Sk(k[i])}\")\n",
    "    "
   ]
  },
  {
   "cell_type": "code",
   "execution_count": 14,
   "metadata": {},
   "outputs": [
    {
     "name": "stdout",
     "output_type": "stream",
     "text": [
      "       col 1  col 2  col 3  col 69  col 69\n",
      "row 1      1      2      3       4       5\n",
      "row 2      4      5      6       7       8\n"
     ]
    }
   ],
   "source": [
    "import numpy as np\n",
    "import pandas as pd\n",
    "\n",
    "def pd_calc(arr, col_names, row_names):\n",
    "    n, m = arr.shape \n",
    "    if len(col_names) < m:\n",
    "        col_names += [col_names[-1]] * (m - len(col_names))\n",
    "    else:\n",
    "        col_names = col_names[:m]\n",
    "    \n",
    "    if len(row_names) < n:\n",
    "        row_names += [row_names[-1]] * (n - len(row_names))\n",
    "    else:\n",
    "        row_names = row_names[:n]\n",
    "    \n",
    "    df = pd.DataFrame(arr, columns=col_names, index=row_names)\n",
    "    return df\n",
    "\n",
    "\n",
    "test = np.array([[1, 2, 3,4,5], [4, 5, 6,7,8]])\n",
    "col_names = [\"col 1\", \"col 2\",'col 3','col 69']  \n",
    "row_names = [\"row 1\", \"row 2\", \"row 3\", \"row 4\"]\n",
    "print(pd_calc(test, col_names, row_names))\n"
   ]
  }
 ],
 "metadata": {
  "kernelspec": {
   "display_name": "Python 3",
   "language": "python",
   "name": "python3"
  },
  "language_info": {
   "codemirror_mode": {
    "name": "ipython",
    "version": 3
   },
   "file_extension": ".py",
   "mimetype": "text/x-python",
   "name": "python",
   "nbconvert_exporter": "python",
   "pygments_lexer": "ipython3",
   "version": "3.11.8"
  }
 },
 "nbformat": 4,
 "nbformat_minor": 2
}
